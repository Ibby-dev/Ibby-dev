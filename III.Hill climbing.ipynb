{
 "cells": [
  {
   "cell_type": "markdown",
   "id": "bc47b02c-9bcc-4134-ab14-78884b339b9a",
   "metadata": {},
   "source": [
    "<h1>III.Hill climbing</h1>\n",
    "In optimization terms, your current location would be a specific solution, and the current elevation (measured in meters from the sea level, for example) would be the value of the optimization criterion. The different directions in the forest would correspond to small changes in the current solution."
   ]
  },
  {
   "cell_type": "markdown",
   "id": "10405641-cf95-416d-9a57-a67e418084b7",
   "metadata": {},
   "source": [
    "<h2>Exercise 3: Reach the highest summit</h2>\n",
    "To better understand the idea, we'll start by considering a simple scenario involving actual hill climbing. Our fearless hero, the mountaineer Venla Gustafsson, is determined to conquer another mountain. Unfortunately, she has forgotten to take her eyeglasses with her and she can only see as far as her arm can reach. So she just climbs upwards and once she reaches a summit, she stops. Let's see what happens."
   ]
  },
  {
   "cell_type": "markdown",
   "id": "7ad1e112-1656-4164-b982-0e3701eb4af0",
   "metadata": {
    "jp-MarkdownHeadingCollapsed": true
   },
   "source": [
    "<h3>Beginner</h3>\n",
    "Adjust the slider to mark the region that will ensure that Venla reaches the highest summit. Venla will start at a random position inside the region and climb up to the highest peak there.\n",
    "\n",
    "Note: You should drag and resize the slider in order to select the correct answer."
   ]
  },
  {
   "cell_type": "markdown",
   "id": "99fe87ff-8401-48f7-9927-856b49df77eb",
   "metadata": {
    "jp-MarkdownHeadingCollapsed": true
   },
   "source": [
    "<img src = '../img/Screenshot 2023-07-27 at 22.18.51.png'>"
   ]
  },
  {
   "cell_type": "markdown",
   "id": "43527fa7-7fb1-47c9-9de4-e631709c59cb",
   "metadata": {},
   "source": [
    "<h3>Intermediate</h3>\n",
    "Let the elevation at each point on the mountain be stored in array h of size 100. The elevation at the leftmost point is thus stored in h[0] and the elevation at the rightmost point is stored in h[99].\n",
    "\n",
    "If we plot the elevation values, they look like something like this:"
   ]
  },
  {
   "cell_type": "markdown",
   "id": "a1f3a5b0-1ac7-4aaa-aecf-f2a63568c28f",
   "metadata": {
    "jp-MarkdownHeadingCollapsed": true
   },
   "source": [
    "<img src = '../img/1.3-Exercise_3-Reaching_the_highest_summit.svg'>"
   ]
  },
  {
   "cell_type": "markdown",
   "id": "5f96f0bb-1ccf-42ec-bb36-f8e171cf6f50",
   "metadata": {
    "jp-MarkdownHeadingCollapsed": true
   },
   "source": [
    "The following program starts at a random position and keeps going to the right until Venla can no longer go up. To make it easier to avoid falling off the map at the boundaries, we set both h[0] and h[100] equal to zero which is lower than any of the values in between.\n",
    "\n",
    "You can see the result in the above chart where the starting point is marked with a small green box and the point where Venla stops is marked with a small red triangle. This works fine as long as the summit is to her right, but maybe it is to the left?\n",
    "\n",
    "Edit the program so that Venla doesn't stop climbing if she can go up either by moving left or right. If both ways go up, either one is good. To check how your climbing algorithm works in action, you can plot the results of your hill climbing using the Plot button. The summit will be marked with a blue triangle."
   ]
  },
  {
   "cell_type": "code",
   "execution_count": 1,
   "id": "23a47f24-ea5e-41f6-b4fb-4ab873ca63b7",
   "metadata": {},
   "outputs": [
    {
     "name": "stdout",
     "output_type": "stream",
     "text": [
      "Venla started at 59 and got to 76\n"
     ]
    },
    {
     "data": {
      "text/plain": [
       "(59, 76)"
      ]
     },
     "execution_count": 1,
     "metadata": {},
     "output_type": "execute_result"
    }
   ],
   "source": [
    "import math\n",
    "import random             \t# just for generating random mountains                                 \t \n",
    "\n",
    "# generate random mountains                                                                               \t \n",
    "w = [random.random()/3, random.random()/3, random.random()/3]\n",
    "h = [1.+math.sin(1+x/6.)*w[0]+math.sin(-.3+x/9.)*w[1]+math.sin(-.2+x/30.)*w[2] for x in range(100)]\n",
    "h[0] = 0.0; h[99] = 0.0\n",
    "\n",
    "def climb(x, h):\n",
    "    # keep climbing until we've found a summit\n",
    "    summit = False\n",
    "\n",
    "    # edit here\n",
    "    while not summit:\n",
    "        summit = True         # stop unless there's a way up\n",
    "        if h[x + 1] > h[x]:\n",
    "            x = x + 1         # right is higher, go there\n",
    "            summit = False    # and keep going\n",
    "    return x\n",
    "\n",
    "\n",
    "def main(h):\n",
    "\n",
    "    # start at a random place                                                                                  \t \n",
    "    x0 = random.randint(1, 98)\n",
    "    x = climb(x0, h)\n",
    "\n",
    "    print(\"Venla started at %d and got to %d\" % (x0, x))\n",
    "    return x0, x\n",
    "\n",
    "main(h)\n"
   ]
  },
  {
   "cell_type": "markdown",
   "id": "4dd86ffc-ddc6-4015-83d4-cc8d706337b7",
   "metadata": {
    "jp-MarkdownHeadingCollapsed": true
   },
   "source": [
    "<h3>Advanced</h3>\n",
    "The template code below contains an incomplete permutations function which takes as input a specified route and a list of port names absent from that route. Modify the function so that it prints out all the possible orderings of the ports that always begin with Panama (PAN)."
   ]
  },
  {
   "cell_type": "code",
   "execution_count": 9,
   "id": "47a40f1f-15e2-48df-bb3c-5f2052c0ee75",
   "metadata": {
    "jp-MarkdownHeadingCollapsed": true
   },
   "outputs": [
    {
     "name": "stdout",
     "output_type": "stream",
     "text": [
      "PAN\n"
     ]
    }
   ],
   "source": [
    "portnames = [\"PAN\", \"AMS\", \"CAS\", \"NYC\", \"HEL\"]\n",
    " \n",
    "def permutations(route, ports):\n",
    "    # Write your recursive code here\n",
    "    \n",
    "    # Print the port names in route when the recursion terminates\n",
    "    print(' '.join([portnames[i] for i in route]))\n",
    "\n",
    "\n",
    "# This will start the recursion with 0 (\"PAN\") as the first stop\n",
    "permutations([0], list(range(1, len(portnames))))\n"
   ]
  },
  {
   "cell_type": "code",
   "execution_count": 6,
   "id": "9f8070a6-d0bb-4441-b6e8-d797278cf406",
   "metadata": {
    "jp-MarkdownHeadingCollapsed": true
   },
   "outputs": [
    {
     "name": "stdout",
     "output_type": "stream",
     "text": [
      "PAN AMS CAS NYC HEL\n",
      "PAN AMS CAS HEL NYC\n",
      "PAN AMS NYC CAS HEL\n",
      "PAN AMS NYC HEL CAS\n",
      "PAN AMS HEL CAS NYC\n",
      "PAN AMS HEL NYC CAS\n",
      "PAN CAS AMS NYC HEL\n",
      "PAN CAS AMS HEL NYC\n",
      "PAN CAS NYC AMS HEL\n",
      "PAN CAS NYC HEL AMS\n",
      "PAN CAS HEL AMS NYC\n",
      "PAN CAS HEL NYC AMS\n",
      "PAN NYC AMS CAS HEL\n",
      "PAN NYC AMS HEL CAS\n",
      "PAN NYC CAS AMS HEL\n",
      "PAN NYC CAS HEL AMS\n",
      "PAN NYC HEL AMS CAS\n",
      "PAN NYC HEL CAS AMS\n",
      "PAN HEL AMS CAS NYC\n",
      "PAN HEL AMS NYC CAS\n",
      "PAN HEL CAS AMS NYC\n",
      "PAN HEL CAS NYC AMS\n",
      "PAN HEL NYC AMS CAS\n",
      "PAN HEL NYC CAS AMS\n"
     ]
    }
   ],
   "source": [
    "# Example Solution:\n",
    "\n",
    "portnames = [\"PAN\", \"AMS\", \"CAS\", \"NYC\", \"HEL\"]\n",
    "\n",
    "def permutations(route, ports):\n",
    "    if len(ports) < 1:\n",
    "        print(' '.join([portnames[i] for i in route]))\n",
    "    else:\n",
    "        for i in range(len(ports)):\n",
    "            permutations(route+[ports[i]], ports[:i]+ports[i+1:])\n",
    " \n",
    "permutations([0], list(range(1, len(portnames))))"
   ]
  },
  {
   "cell_type": "code",
   "execution_count": 8,
   "id": "719f7184-8b96-4cfa-8f8f-e6411d73601d",
   "metadata": {
    "jp-MarkdownHeadingCollapsed": true
   },
   "outputs": [
    {
     "name": "stdout",
     "output_type": "stream",
     "text": [
      "PAN AMS CAS NYC HEL\n",
      "PAN AMS CAS HEL NYC\n",
      "PAN AMS NYC CAS HEL\n",
      "PAN AMS NYC HEL CAS\n",
      "PAN AMS HEL CAS NYC\n",
      "PAN AMS HEL NYC CAS\n",
      "PAN CAS AMS NYC HEL\n",
      "PAN CAS AMS HEL NYC\n",
      "PAN CAS NYC AMS HEL\n",
      "PAN CAS NYC HEL AMS\n",
      "PAN CAS HEL AMS NYC\n",
      "PAN CAS HEL NYC AMS\n",
      "PAN NYC AMS CAS HEL\n",
      "PAN NYC AMS HEL CAS\n",
      "PAN NYC CAS AMS HEL\n",
      "PAN NYC CAS HEL AMS\n",
      "PAN NYC HEL AMS CAS\n",
      "PAN NYC HEL CAS AMS\n",
      "PAN HEL AMS CAS NYC\n",
      "PAN HEL AMS NYC CAS\n",
      "PAN HEL CAS AMS NYC\n",
      "PAN HEL CAS NYC AMS\n",
      "PAN HEL NYC AMS CAS\n",
      "PAN HEL NYC CAS AMS\n"
     ]
    }
   ],
   "source": [
    "# ChatGPT code.\n",
    "\n",
    "portnames = [\"PAN\", \"AMS\", \"CAS\", \"NYC\", \"HEL\"]\n",
    "\n",
    "def permutations(route, ports):\n",
    "    \n",
    "    # Write your recursive code here\n",
    "    if len(route) == len(portnames):\n",
    "    \n",
    "        # Print the port names in route when the recursion terminates\n",
    "        print(' '.join([portnames[i] for i in route]))\n",
    "    \n",
    "    else:\n",
    "        for port in ports:\n",
    "            permutations(route + [port], [p for p in ports if p != port])\n",
    "\n",
    "# This will start the recursion with 0 (\"PAN\") as the first stop\n",
    "permutations([0], list(range(1, len(portnames))))"
   ]
  },
  {
   "cell_type": "markdown",
   "id": "c365dbb6-986d-42ea-96ae-ea4f974e6698",
   "metadata": {
    "jp-MarkdownHeadingCollapsed": true
   },
   "source": [
    "<h2> Exercise 2: Pineapple route emissions</h2>\n",
    "Stage 1: listing all passible routes.\n",
    "The term used by programmers is enumerate.\n",
    "combinatorics (the part of mathematics that deals with combinations of finite sets of objects = number of the routes is 4 X 3 X 2 X 1 = 24"
   ]
  },
  {
   "cell_type": "markdown",
   "id": "da3c79af-600c-4e33-b2ba-1383e01f1889",
   "metadata": {
    "jp-MarkdownHeadingCollapsed": true
   },
   "source": [
    "<h3>Beginner</h3>\n",
    "How many routes would there be if all the people in Helsinki were allergic to pineapple? In other words, what is the number of routes from a given starting point to three other ports (instead of four)?\n",
    "\n",
    "Using the reference table, calculate the emissions produced by the following three routes. Which one produces the least emissions?"
   ]
  },
  {
   "cell_type": "markdown",
   "id": "1e467e8e-52fa-4f34-b904-c52f322aa848",
   "metadata": {
    "jp-MarkdownHeadingCollapsed": true
   },
   "source": [
    "<h4>The reference table</h4>\n",
    "<img src=\"../img/figure3.png\">"
   ]
  },
  {
   "cell_type": "code",
   "execution_count": 54,
   "id": "a56e576a-3826-4e34-84d7-ffc3dac3c6e0",
   "metadata": {},
   "outputs": [
    {
     "name": "stdout",
     "output_type": "stream",
     "text": [
      "PAN 31159\n",
      "AMS 19957\n",
      "CAS 21413\n",
      "NYK 23630\n",
      "HEL 25387\n",
      "The shorter distance is:  AMS  with totoal distance:  19957\n"
     ]
    }
   ],
   "source": [
    "# This attempt is to solve the problem with code\n",
    "routes = ['PAN', 'AMS', 'CAS', 'NYK', 'HEL']\n",
    "distance = [[0, 8943,8019, 3652, 10545], [8943, 0, 2619, 6317, 2078,], [8019, 2619, 0, 5836, 4939], [3652, 6317, 5836, 0, 7825], [10545, 2078, 4939, 7825, 0]]\n",
    "\n",
    "def calculate_shortest_route ():\n",
    "\n",
    "# Define the distance as float and empty shorter route\n",
    "    min_distance = float('inf')\n",
    "# Will assign current_routes\n",
    "    shorter_route = ''\n",
    "    \n",
    "# Forloop over the routes len to get a int as index\n",
    "# (Start)\n",
    "    for i in range(len(routes)):\n",
    "        \n",
    "        # Define current_routes with index [i]\n",
    "        current_routes = routes[i]\n",
    "        \n",
    "        # Define tottal_distance referencing to the index [i]\n",
    "        tottal_distance = sum(distance[i])\n",
    "        \n",
    "        # Routes with total distance\n",
    "        print (current_routes, tottal_distance) \n",
    "\n",
    "        # Condition  to get the shorter_route and min_distance  \n",
    "        if tottal_distance < min_distance:\n",
    "            min_distance = tottal_distance\n",
    "            shorter_route = current_routes        \n",
    "    #(End)\n",
    "    print('The shorter distance is: ', shorter_route, ' with totoal distance: ', min_distance)\n",
    "\n",
    "\n",
    "calculate_shortest_route()"
   ]
  },
  {
   "cell_type": "markdown",
   "id": "ec6545fa-e579-47b4-8edd-4b2159f7c7c6",
   "metadata": {
    "jp-MarkdownHeadingCollapsed": true
   },
   "source": [
    "<h3>Intermediate</h3>\n",
    "The program below prints the total emissions on the route PAN, AMS, CAS, NY, HEL (in port indices route 0, 1, 2, 3, 4) in kilograms, which is 504.5 kg. Modify the program so that it prints out the carbon emissions of all the possible routes. The solution for the previous exercise should be useful here."
   ]
  },
  {
   "cell_type": "code",
   "execution_count": 20,
   "id": "5e745807-cc90-44ca-994d-bae9b5cb6b39",
   "metadata": {},
   "outputs": [
    {
     "name": "stdout",
     "output_type": "stream",
     "text": [
      "PAN AMS CAS NYC HEL 504.5 kg\n"
     ]
    }
   ],
   "source": [
    "# The template code.\n",
    "\n",
    "def main():\n",
    "    portnames = [\"PAN\", \"AMS\", \"CAS\", \"NYC\", \"HEL\"]\n",
    "\n",
    "    # https://sea-distances.org/\n",
    "    # nautical miles converted to km\n",
    "\n",
    "    D = [\n",
    "            [0,8943,8019,3652,10545],\n",
    "            [8943,0,2619,6317,2078],\n",
    "            [8019,2619,0,5836,4939],\n",
    "            [3652,6317,5836,0,7825],\n",
    "            [10545,2078,4939,7825,0]\n",
    "        ]\n",
    "\n",
    "    # https://timeforchange.org/co2-emissions-shipping-goods\n",
    "    # assume 20g per km per metric ton (of pineapples)\n",
    "\n",
    "\n",
    "    co2 = 0.020\n",
    "\n",
    "    route = [0, 1, 2, 3, 4]\n",
    "    distance = D[route[0]][route[1]] + D[route[1]][route[2]] + D[route[2]][route[3]] + D[route[3]][route[4]]\n",
    "    emissions = distance * co2\n",
    "    print(' '.join([portnames[i] for i in route]) + \" %.1f kg\" % emissions)\n",
    "    \n",
    "main()"
   ]
  },
  {
   "cell_type": "code",
   "execution_count": 18,
   "id": "c743dc30-98c7-4782-9868-28e4048540b8",
   "metadata": {},
   "outputs": [
    {
     "name": "stdout",
     "output_type": "stream",
     "text": [
      "PAN AMS CAS NYC HEL 504.5 kg\n",
      "PAN AMS CAS HEL NYC 486.5 kg\n",
      "PAN AMS NYC CAS HEL 520.7 kg\n",
      "PAN AMS NYC HEL CAS 560.5 kg\n",
      "PAN AMS HEL CAS NYC 435.9 kg\n",
      "PAN AMS HEL NYC CAS 493.6 kg\n",
      "PAN CAS AMS NYC HEL 495.6 kg\n",
      "PAN CAS AMS HEL NYC 410.8 kg\n",
      "PAN CAS NYC AMS HEL 445.0 kg\n",
      "PAN CAS NYC HEL AMS 475.2 kg\n",
      "PAN CAS HEL AMS NYC 427.1 kg\n",
      "PAN CAS HEL NYC AMS 542.0 kg\n",
      "PAN NYC AMS CAS HEL 350.5 kg\n",
      "PAN NYC AMS HEL CAS 339.7 kg\n",
      "PAN NYC CAS AMS HEL 283.7 kg\n",
      "PAN NYC CAS HEL AMS 330.1 kg\n",
      "PAN NYC HEL AMS CAS 323.5 kg\n",
      "PAN NYC HEL CAS AMS 380.7 kg\n",
      "PAN HEL AMS CAS NYC 421.6 kg\n",
      "PAN HEL AMS NYC CAS 495.5 kg\n",
      "PAN HEL CAS AMS NYC 488.4 kg\n",
      "PAN HEL CAS NYC AMS 552.7 kg\n",
      "PAN HEL NYC AMS CAS 546.1 kg\n",
      "PAN HEL NYC CAS AMS 536.5 kg\n"
     ]
    }
   ],
   "source": [
    "# Example solution\n",
    "\n",
    "def main():\n",
    "    portnames = [\"PAN\", \"AMS\", \"CAS\", \"NYC\", \"HEL\"]\n",
    "\n",
    "    # https://sea-distances.org/\n",
    "    # nautical miles converted to km\n",
    "\n",
    "    D = [\n",
    "            [0,8943,8019,3652,10545],\n",
    "            [8943,0,2619,6317,2078],\n",
    "            [8019,2619,0,5836,4939],\n",
    "            [3652,6317,5836,0,7825],\n",
    "            [10545,2078,4939,7825,0]\n",
    "        ]\n",
    "\n",
    "    # https://timeforchange.org/co2-emissions-shipping-goods\n",
    "    # assume 20g per km per metric ton (of pineapples)\n",
    "\n",
    "\n",
    "    co2 = 0.020\n",
    "\n",
    "\n",
    "    port1 = 0\n",
    "    for port2 in range(1, 5):\n",
    "        for port3 in range(1, 5):\n",
    "            for port4 in range(1, 5):\n",
    "                for port5 in range(1, 5):\n",
    "                    route = [port1, port2, port3, port4, port5]\n",
    "                    if 0 in route and 1 in route and 2 in route and 3 in route and 4 in route:\n",
    "                        distance = D[route[0]][route[1]] + D[route[1]][route[2]] + D[route[2]][route[3]] + D[route[3]][route[4]]               \n",
    "                        emissions = distance * co2\n",
    "                        print(' '.join([portnames[i] for i in route]) + \" %.1f kg\" % emissions)\n",
    "    \n",
    "main()"
   ]
  },
  {
   "cell_type": "markdown",
   "id": "a1f50afa-5acd-4e58-a3e8-bfd1634fc592",
   "metadata": {
    "jp-MarkdownHeadingCollapsed": true
   },
   "source": [
    "<h3>Advanced</h3>\n",
    "Building on the previous solution, modify the code so that it finds the route with minimum carbon emissions and prints it out. Again, the program should work for any number of ports. You can assume that the distances between the ports are given in an array of the appropriate size so that the distance between ports i and j is found in D[i][j]."
   ]
  },
  {
   "cell_type": "markdown",
   "id": "1f41b72d-bbd0-424c-b937-335b0b54e46b",
   "metadata": {},
   "source": [
    "<p>You can make use of the variable smallest whose value is initialized to be a large number, say 1000000 kg, which is (fortunately!) greater than the emissions of any route. You can then compare the emissions of each route to smallest, and if the emissions of the current route are less than smallest, update the value of smallest. Every time you do so, you should also assign the current route to best_route. At the end, the route with the least emissions will be stored in best_route and its emissions will be stored in smallest.</p>\n"
   ]
  },
  {
   "cell_type": "code",
   "execution_count": 23,
   "id": "55acd509-6f5f-4b72-931a-8c15b00947b6",
   "metadata": {},
   "outputs": [
    {
     "name": "stdout",
     "output_type": "stream",
     "text": [
      "PAN PAN PAN PAN PAN 1000000.0 kg\n"
     ]
    }
   ],
   "source": [
    "# Example code\n",
    "\n",
    "portnames = [\"PAN\", \"AMS\", \"CAS\", \"NYC\", \"HEL\"]\n",
    "\n",
    "# https://sea-distances.org/\n",
    "# nautical miles converted to km\n",
    "\n",
    "D = [\n",
    "        [0,8943,8019,3652,10545],\n",
    "        [8943,0,2619,6317,2078],\n",
    "        [8019,2619,0,5836,4939],\n",
    "        [3652,6317,5836,0,7825],\n",
    "        [10545,2078,4939,7825,0]\n",
    "    ]\n",
    "\n",
    "# https://timeforchange.org/co2-emissions-shipping-goods\n",
    "# assume 20g per km per metric ton (of pineapples)\n",
    "\n",
    "co2 = 0.020\n",
    "\n",
    "# DATA BLOCK ENDS\n",
    "\n",
    "# these variables are initialised to nonsensical values\n",
    "# your program should determine the correct values for them\n",
    "smallest = 1000000\n",
    "bestroute = [0, 0, 0, 0, 0]\n",
    "\n",
    "def permutations(route, ports):\n",
    "    # write the recursive function here\n",
    "    # remember to calculate the emissions of the route as the recursion ends\n",
    "    # and keep track of the route with the lowest emissions\n",
    "    pass\n",
    "\n",
    "def main():\n",
    "    # Do not edit any (global) variables using this function, as it will mess up the testing\n",
    "\n",
    "    # this will start the recursion \n",
    "    permutations([0], list(range(1, len(portnames))))\n",
    "\n",
    "    # print the best route and its emissions\n",
    "    print(' '.join([portnames[i] for i in bestroute]) + \" %.1f kg\" % smallest)\n",
    "\n",
    "main()\n"
   ]
  },
  {
   "cell_type": "code",
   "execution_count": 36,
   "id": "3d123450-523f-4c31-a866-5de2bf421299",
   "metadata": {},
   "outputs": [
    {
     "name": "stdout",
     "output_type": "stream",
     "text": [
      "PAN NYC CAS AMS HEL 283.7 kg\n"
     ]
    }
   ],
   "source": [
    "\n",
    "#ChatGPT\n",
    "\n",
    "portnames = [\"PAN\", \"AMS\", \"CAS\", \"NYC\", \"HEL\"]\n",
    "\n",
    "# https://sea-distances.org/\n",
    "# nautical miles converted to km\n",
    "D = [[0, 8943, 8019, 3652, 10545], [8943, 0, 2619, 6317, 2078], [8019, 2619, 0, 5836, 4939], [3652, 6317, 5836, 0, 7825], [10545, 2078, 4939, 7825, 0]]\n",
    "\n",
    "# https://timeforchange.org/co2-emissions-shipping-goods\n",
    "# assume 20g per km per metric ton (of pineapples)\n",
    "co2 = 0.020\n",
    "\n",
    "# DATA BLOCK ENDS\n",
    "\n",
    "# these variables are initialized to nonsensical values\n",
    "# your program should determine the correct values for them\n",
    "smallest = 1000000\n",
    "bestroute = [0, 0, 0, 0, 0]\n",
    "\n",
    "\n",
    "def calculate_emissions(route):\n",
    "    distance = 0\n",
    "    for i in range(len(route) - 1):\n",
    "        distance += D[route[i]][route[i + 1]]\n",
    "    emissions = distance * co2\n",
    "    return emissions\n",
    "\n",
    "\n",
    "def permutations(route, ports):\n",
    "    global smallest, bestroute\n",
    "\n",
    "    if len(ports) == 0:\n",
    "        emissions = calculate_emissions(route)\n",
    "        if emissions < smallest:\n",
    "            smallest = emissions\n",
    "            bestroute = route\n",
    "        return\n",
    "\n",
    "    for port in ports:\n",
    "        new_route = route.copy()\n",
    "        new_ports = ports.copy()\n",
    "        new_route.append(port)\n",
    "        new_ports.remove(port)\n",
    "        permutations(new_route, new_ports)\n",
    "\n",
    "\n",
    "def main():\n",
    "    # Do not edit any (global) variables using this function, as it will mess up the testing\n",
    "\n",
    "    # this will start the recursion\n",
    "    permutations([0], list(range(1, len(portnames))))\n",
    "\n",
    "    # print the best route and its emissions\n",
    "    print(' '.join([portnames[i] for i in bestroute]) + \" %.1f kg\" % smallest)\n",
    "\n",
    "\n",
    "main()"
   ]
  },
  {
   "cell_type": "code",
   "execution_count": 37,
   "id": "15660201-fa87-4891-b7ff-e11f14cad195",
   "metadata": {},
   "outputs": [
    {
     "name": "stdout",
     "output_type": "stream",
     "text": [
      "PAN NYC CAS AMS HEL 283.7 kg\n"
     ]
    }
   ],
   "source": [
    "#Example solution\n",
    "\n",
    "portnames = [\"PAN\", \"AMS\", \"CAS\", \"NYC\", \"HEL\"]\n",
    "\n",
    "D = [\n",
    "        [0,8943,8019,3652,10545],\n",
    "        [8943,0,2619,6317,2078],\n",
    "        [8019,2619,0,5836,4939],\n",
    "        [3652,6317,5836,0,7825],\n",
    "        [10545,2078,4939,7825,0]\n",
    "    ]\n",
    "\n",
    "co2 = 0.020\n",
    "\n",
    "smallest = 1000000\n",
    "bestroute = None\n",
    "\n",
    "def permutations(route, ports):\n",
    "    global smallest, bestroute\n",
    "    if len(ports) < 1:\n",
    "        score = co2 * sum(D[i][j] for i, j in zip(route[:-1], route[1:]))\n",
    "        if score < smallest:\n",
    "            smallest = score\n",
    "            bestroute = route\n",
    "    else:\n",
    "        for i in range(len(ports)):\n",
    "            permutations(route+[ports[i]], ports[:i]+ports[i+1:])\n",
    "\n",
    "def main():\n",
    "    permutations([0], list(range(1, len(portnames))))\n",
    "\n",
    "    print(' '.join([portnames[i] for i in bestroute]) + \" %.1f kg\" % smallest)\n",
    "\n",
    "main()\n"
   ]
  },
  {
   "cell_type": "code",
   "execution_count": null,
   "id": "f9538578-b214-4e36-afa1-ba92b99e846b",
   "metadata": {},
   "outputs": [],
   "source": []
  },
  {
   "cell_type": "markdown",
   "id": "f2ea0fbb-742a-453e-987e-86300c6a8e2d",
   "metadata": {
    "jp-MarkdownHeadingCollapsed": true
   },
   "source": []
  }
 ],
 "metadata": {
  "kernelspec": {
   "display_name": "Python 3 (ipykernel)",
   "language": "python",
   "name": "python3"
  },
  "language_info": {
   "codemirror_mode": {
    "name": "ipython",
    "version": 3
   },
   "file_extension": ".py",
   "mimetype": "text/x-python",
   "name": "python",
   "nbconvert_exporter": "python",
   "pygments_lexer": "ipython3",
   "version": "3.9.6"
  }
 },
 "nbformat": 4,
 "nbformat_minor": 5
}
