{
 "cells": [
  {
   "cell_type": "code",
   "execution_count": 5,
   "id": "4b9c1f82-6f69-4531-905a-b052ee1c1089",
   "metadata": {},
   "outputs": [],
   "source": [
    "# Developers’ code on sites like GitHub.\n",
    "page = 45"
   ]
  },
  {
   "cell_type": "markdown",
   "id": "2ff04b8b-3077-4b1c-90d7-6f127576bb81",
   "metadata": {},
   "source": [
    "<h1> Python Programming Fundamentals</h1>"
   ]
  },
  {
   "cell_type": "markdown",
   "id": "ab61fdd4-b453-497b-8770-8af5283f89e5",
   "metadata": {},
   "source": [
    "First and foremost, this is an introductory Python textbook. \n",
    "We provide rich coverage of Python and general programming fundamentals.\n",
    "\n",
    "We discuss Python’s programming:\n",
    "<ul>\n",
    "    <li><h5> Models—procedural programming. </h5></li>\n",
    "    <li><h5> Functional-style programming. </h5></li> \n",
    "    <li><h5> Object-oriented programming. </h5></li>\n",
    "</ul> \n",
    "We emphasize problem-solving and algorithm development.\n",
    "\n",
    "We use best practices to prepare students for industry.\n",
    "Functional-style programming is used throughout the book as appropriate. A chart in Chapter 4 lists most of Python’s key finctional-style programming capabilities and the chapters in which we initially cover many of them.\n",
    "\n"
   ]
  },
  {
   "cell_type": "markdown",
   "id": "1490baab-accd-49d7-aeef-bbdc2be6499a",
   "metadata": {},
   "source": [
    "<h4 style=\"color:green\"> 538 Examples, and 471 Exercises and Projects (EEPs)</h4>\n",
    "<h4 style=\"color:green\"> 557 Self-Check Exercises and Answers</h4>\n"
   ]
  },
  {
   "cell_type": "code",
   "execution_count": null,
   "id": "668e9cdb-1419-437c-bf0a-7d3f55405475",
   "metadata": {},
   "outputs": [],
   "source": []
  }
 ],
 "metadata": {
  "kernelspec": {
   "display_name": "Python 3 (ipykernel)",
   "language": "python",
   "name": "python3"
  },
  "language_info": {
   "codemirror_mode": {
    "name": "ipython",
    "version": 3
   },
   "file_extension": ".py",
   "mimetype": "text/x-python",
   "name": "python",
   "nbconvert_exporter": "python",
   "pygments_lexer": "ipython3",
   "version": "3.9.6"
  }
 },
 "nbformat": 4,
 "nbformat_minor": 5
}
