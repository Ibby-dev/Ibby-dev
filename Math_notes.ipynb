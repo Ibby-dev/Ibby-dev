{
 "cells": [
  {
   "cell_type": "markdown",
   "id": "bc47b02c-9bcc-4134-ab14-78884b339b9a",
   "metadata": {},
   "source": [
    "# Math Notes\n",
    "This is math about Fundamental Counting Principle Factorial, Formula and Permutation and Combination."
   ]
  },
  {
   "cell_type": "markdown",
   "id": "1804d925-12e0-44d3-aa7c-f60465497219",
   "metadata": {
    "jp-MarkdownHeadingCollapsed": true
   },
   "source": [
    "<h3> Fundamental Counting Principle </h3>\n",
    "The fundamental counting principle is a rule to count all the possible ways for an event to happen or the total number of possible outcomes in a situation."
   ]
  },
  {
   "cell_type": "code",
   "execution_count": 511,
   "id": "3df314c3-eb68-41e0-8462-a7f9cf110191",
   "metadata": {},
   "outputs": [
    {
     "name": "stdout",
     "output_type": "stream",
     "text": [
      " 18 choices.  Sample Space\n"
     ]
    }
   ],
   "source": [
    "# Possoible choices by counting\n",
    "# 3 different A, 6 different choices B. How many choices we have, Sample Space\n",
    "\n",
    "counting = 3 * 6\n",
    "print(\" {} choices.\" .format(counting), ' Sample Space')"
   ]
  },
  {
   "cell_type": "code",
   "execution_count": 536,
   "id": "0ed80e40-e325-4f69-a60e-fadac7f3c097",
   "metadata": {},
   "outputs": [
    {
     "name": "stdout",
     "output_type": "stream",
     "text": [
      "6 possibale\n",
      " \n",
      "Panama Jeddah London\n",
      "Panama London Jeddah\n"
     ]
    }
   ],
   "source": [
    "#The formula for counting the number of routes is 1 x 2 x 3 x ... where the last number is the number of ports, not including the starting points.\n",
    "\n",
    "#Fundamental Counting Principle\n",
    "\n",
    "import math\n",
    "import random\n",
    "import numpy as np\n",
    "import io\n",
    "from io import StringIO\n",
    "\n",
    "route = 3 * 2 * 1\n",
    "print(route, \"possibale\")\n",
    "print(' ')\n",
    "\n",
    "def counting():\n",
    "    names = ['Panama', 'Jeddah', 'London']\n",
    "    port1 = 0\n",
    "    for port2 in range(1, 3):\n",
    "        for port3 in range(1, 3):\n",
    "            \n",
    "            ports = [port1, port2, port3]\n",
    "            \n",
    "            if len(set(ports)) == len(ports):\n",
    "                print(' '.join([names[i] for i in ports]))\n",
    "             \n",
    "\n",
    "counting()"
   ]
  },
  {
   "cell_type": "markdown",
   "id": "f4b2ee81-cd65-4cdd-90eb-7de842ae535e",
   "metadata": {
    "jp-MarkdownHeadingCollapsed": true
   },
   "source": [
    "<h3> Factorial Formula </h3>\n",
    "The Factorial of a whole number 'n' is defined as the product of that number with every whole number less than or equal to 'n' till 1\n",
    "n! or \"n factorial\" means: n! = 1 · 2 · 3 · n = Product of the first n positive integers = n(n-1)(n-2)…………………….(3)(2)(1)"
   ]
  },
  {
   "cell_type": "code",
   "execution_count": 602,
   "id": "11c056cb-01ae-4283-ab70-c757f903cc8a",
   "metadata": {},
   "outputs": [
    {
     "name": "stdin",
     "output_type": "stream",
     "text": [
      "Enter a number:  10\n"
     ]
    },
    {
     "name": "stdout",
     "output_type": "stream",
     "text": [
      "The factorial of 10 is 3628800\n"
     ]
    }
   ],
   "source": [
    "# The expression involving factorials: n! = n* (n-1) * (n-2) *........1, 4! = 4x3x2x1 = 24 - +++ user input code +++  \n",
    "def fact():\n",
    "    num = int(input(\"Enter a number: \"))\n",
    "    factorial = 1 \n",
    "    \n",
    "    if num < 0:    \n",
    "       print(\" Factorial does not exist for negative numbers\")    \n",
    "    elif num == 0:    \n",
    "       print(\"The factorial of 0 is 1\")    \n",
    "    else:    \n",
    "       for i in range(1,num + 1):    \n",
    "           factorial = factorial*i    \n",
    "       print(\"The factorial of\",num,\"is\",factorial) \n",
    "fact()"
   ]
  },
  {
   "cell_type": "code",
   "execution_count": 6,
   "id": "5564579b-f9aa-4518-9888-71b059e26685",
   "metadata": {},
   "outputs": [
    {
     "name": "stdout",
     "output_type": "stream",
     "text": [
      "factorial 10! = 3628800 ; factorial 4! = 24 ; factorial 6! = 720 ; factorial 4! x 6! = 17280 ; Answer 210.0\n"
     ]
    }
   ],
   "source": [
    "# Evaluate the expression involving factorials: 10!/(4! × 6!).\n",
    "var1 = 10 * 9 * 8 * 7 * 6 * 5 * 4 * 3 * 2 * 1\n",
    "var2 = 4 * 3 * 2 * 1\n",
    "var3 = 6 * 5 * 4 * 3 * 2 * 1\n",
    "\n",
    "multiplay = var2 * var3\n",
    "factorial = var1 / multiplay\n",
    "\n",
    "print ('factorial 10! =', var1,';', 'factorial 4! =', var2, ';', 'factorial 6! =', var3, ';', 'factorial 4! x 6! =', multiplay, ';', 'Answer', factorial)"
   ]
  },
  {
   "cell_type": "markdown",
   "id": "91d06b01-6af8-4c6f-af97-4e480464caf4",
   "metadata": {},
   "source": [
    "<h3>Permutation</h3>\n",
    "A permutation is an arrangement in a definite order of a number of objects taken some or all at a time. Let us take 10 numbers: 0, 1, 2, 3, 4, 5, 6, 7, 8 and 9. The number of different 4-digit-PIN which can be formed using these 10 numbers is 5040. P(10,4) = 5040. This is a simple example of permutations. The permutations of 4 numbers taken from 10 numbers equal to the factorial of 10 divided by the factorial of the difference of 10 and 4. The permutations is easily calculated using. <img src=\"../img/figure1.png\">"
   ]
  },
  {
   "cell_type": "markdown",
   "id": "936b1bd8-69e1-4441-9029-6ae0a4e5edd6",
   "metadata": {},
   "source": [
    "<h4 style=\"color:blue\"> Example 1: Using recursion</h4>\n",
    "Permutation of the String"
   ]
  },
  {
   "cell_type": "code",
   "execution_count": 510,
   "id": "b813e179-22ff-4f99-8869-3ca57da694a0",
   "metadata": {},
   "outputs": [
    {
     "name": "stdout",
     "output_type": "stream",
     "text": [
      "ib\n",
      "bi\n",
      "None\n"
     ]
    }
   ],
   "source": [
    "def get_permutation(string, i=0):\n",
    "\n",
    "    if i == len(string):   \t \n",
    "        print(\"\".join(string))\n",
    "\n",
    "    for j in range(i, len(string)):\n",
    "\n",
    "        words = [c for c in string]\n",
    "   \n",
    "        # swap\n",
    "        words[i], words[j] = words[j], words[i]\n",
    "   \t \n",
    "        get_permutation(words, i + 1)\n",
    "\n",
    "print(get_permutation('ib'))"
   ]
  },
  {
   "cell_type": "markdown",
   "id": "c3881904-74ed-4818-b876-b70dda0ff932",
   "metadata": {},
   "source": [
    "<h4 style=\"color:blue\"> Example 2: Using itertools</h4>\n",
    "Permutation of the String"
   ]
  },
  {
   "cell_type": "code",
   "execution_count": 196,
   "id": "0145a686-a484-4fce-b95a-12ec5030c5e7",
   "metadata": {},
   "outputs": [
    {
     "name": "stdout",
     "output_type": "stream",
     "text": [
      "['ibby', 'ibyb', 'ibby', 'ibyb', 'iybb', 'iybb', 'biby', 'biyb', 'bbiy', 'bbyi', 'byib', 'bybi', 'biby', 'biyb', 'bbiy', 'bbyi', 'byib', 'bybi', 'yibb', 'yibb', 'ybib', 'ybbi', 'ybib', 'ybbi']\n"
     ]
    }
   ],
   "source": [
    "from itertools import permutations\n",
    "words = [''.join(p) for p in permutations('ibby')]\n",
    "\n",
    "print(words)"
   ]
  },
  {
   "cell_type": "code",
   "execution_count": 199,
   "id": "41740e46-da87-4d1b-ac6f-23d8408ecfcd",
   "metadata": {},
   "outputs": [
    {
     "name": "stdin",
     "output_type": "stream",
     "text": [
      "Enter a string:  ib@b-= \" y ---\n"
     ]
    },
    {
     "name": "stdout",
     "output_type": "stream",
     "text": [
      "ibby\n"
     ]
    }
   ],
   "source": [
    "# define punctuation\n",
    "punctuations = '''!()-[]{};:'\"\\,<>./?@#$%^&*_~= '''\n",
    "\n",
    "# To take input from the user\n",
    "my_str = input(\"Enter a string: \")\n",
    "\n",
    "# remove punctuation from the string\n",
    "no_punct = \"\"\n",
    "for char in my_str:\n",
    "   if char not in punctuations:\n",
    "       no_punct = no_punct + char\n",
    "\n",
    "# display the unpunctuated string\n",
    "print(no_punct)"
   ]
  },
  {
   "cell_type": "markdown",
   "id": "52e64bcb-9d63-43a0-8c1b-10d279368b05",
   "metadata": {
    "jp-MarkdownHeadingCollapsed": true
   },
   "source": [
    "<h3>Combinations</h3>\n",
    "\n",
    "A combination is all about grouping. The number of different groups which can be formed from the available things can be calculated using combinations. Let us try to understand this with a simple example. A team of 2 is formed from 5 students(William, James, Noah, Logan, and Oliver). This the combination of 'r' persons from the available 'n' persons is given as: \n",
    "<img src=\"../img/figure2.png\">\n",
    "\n",
    "The combinations can happen in the following 10 ways by which the team of 2 could be formed."
   ]
  },
  {
   "cell_type": "code",
   "execution_count": 24,
   "id": "c94878a1-4d69-453e-afd5-edc722b2582f",
   "metadata": {},
   "outputs": [
    {
     "name": "stdout",
     "output_type": "stream",
     "text": [
      "Panama Jeddah London\n",
      "Panama London Jeddah\n"
     ]
    }
   ],
   "source": [
    "#The formula for counting the number of routes is 1 x 2 x 3 x ... where the last number is the number of ports, not including the starting points.\n",
    "#Fundamental Counting Principle\n",
    "\n",
    "import math\n",
    "import random\n",
    "import numpy as np\n",
    "import io\n",
    "from io import StringIO\n",
    "\n",
    "\n",
    "\n",
    "def counting():\n",
    "    port_names = ['Panama', 'Jeddah', 'London', 'Liverpool', 'Manchester']\n",
    "\n",
    "    #Port1 is start point.\n",
    "    port1 = 0\n",
    "    for port2 in range(1, 3):\n",
    "        for port3 in range(1, 3):\n",
    "          \n",
    "                    ports = [port1, port2, port3]\n",
    "                    if len(set(ports)) == len(ports):\n",
    "                            \n",
    "                        print(' '.join([port_names[i] for i in ports]))\n",
    "\n",
    "counting()"
   ]
  },
  {
   "cell_type": "code",
   "execution_count": 174,
   "id": "4147101a-3971-4600-8155-af09a5573eff",
   "metadata": {},
   "outputs": [
    {
     "name": "stdout",
     "output_type": "stream",
     "text": [
      "PAN AMS CAS NYC HEL\n",
      "PAN AMS CAS HEL NYC\n",
      "PAN AMS NYC CAS HEL\n",
      "PAN AMS NYC HEL CAS\n",
      "PAN AMS HEL CAS NYC\n",
      "PAN AMS HEL NYC CAS\n",
      "PAN CAS AMS NYC HEL\n",
      "PAN CAS AMS HEL NYC\n",
      "PAN CAS NYC AMS HEL\n",
      "PAN CAS NYC HEL AMS\n",
      "PAN CAS HEL AMS NYC\n",
      "PAN CAS HEL NYC AMS\n",
      "PAN NYC AMS CAS HEL\n",
      "PAN NYC AMS HEL CAS\n",
      "PAN NYC CAS AMS HEL\n",
      "PAN NYC CAS HEL AMS\n",
      "PAN NYC HEL AMS CAS\n",
      "PAN NYC HEL CAS AMS\n",
      "PAN HEL AMS CAS NYC\n",
      "PAN HEL AMS NYC CAS\n",
      "PAN HEL CAS AMS NYC\n",
      "PAN HEL CAS NYC AMS\n",
      "PAN HEL NYC AMS CAS\n",
      "PAN HEL NYC CAS AMS\n"
     ]
    },
    {
     "data": {
      "text/plain": [
       "False"
      ]
     },
     "execution_count": 174,
     "metadata": {},
     "output_type": "execute_result"
    }
   ],
   "source": [
    "# Fix the program by adding an if statement that checks that the route includes all of the ports. \n",
    "# In other words, check that each of the numbers 0, 1, 2, 3, 4 are included in the list routes.\n",
    "import pandas\n",
    "import math\n",
    "import random\n",
    "import numpy as np\n",
    "import io\n",
    "from io import StringIO\n",
    "\n",
    "def main():\n",
    "    portnames = [\"PAN\", \"AMS\", \"CAS\", \"NYC\", \"HEL\"]\n",
    "\n",
    "    port1 = 0\n",
    "    for port2 in range(1, 5):\n",
    "        for port3 in range(1, 5):\n",
    "            for port4 in range(1, 5):\n",
    "                for port5 in range(1, 5):\n",
    "                    route = [port1, port2, port3 , port4, port5]\n",
    "                    \n",
    "                    # if 0 in route and 1 in route and 2 in route and 3 in route: \"Not really fixing the problem\"\n",
    "                    # if set(route) == set(range(5)): \" Working with no erorr\"                  \n",
    "                    if len(set(route)) == len(route):\n",
    "                    \n",
    "                        print(' '.join([portnames[i] for i in route]))\n",
    "\n",
    "main()in()"
   ]
  },
  {
   "cell_type": "code",
   "execution_count": 39,
   "id": "f0b422b4-3e9f-4fff-95bf-f995ba22ba3b",
   "metadata": {},
   "outputs": [
    {
     "name": "stdout",
     "output_type": "stream",
     "text": [
      "PAN AMS CAS NYC HEL\n",
      "PAN AMS CAS HEL NYC\n",
      "PAN AMS NYC CAS HEL\n",
      "PAN AMS NYC HEL CAS\n",
      "PAN AMS HEL CAS NYC\n",
      "PAN AMS HEL NYC CAS\n",
      "PAN CAS AMS NYC HEL\n",
      "PAN CAS AMS HEL NYC\n",
      "PAN CAS NYC AMS HEL\n",
      "PAN CAS NYC HEL AMS\n",
      "PAN CAS HEL AMS NYC\n",
      "PAN CAS HEL NYC AMS\n",
      "PAN NYC AMS CAS HEL\n",
      "PAN NYC AMS HEL CAS\n",
      "PAN NYC CAS AMS HEL\n",
      "PAN NYC CAS HEL AMS\n",
      "PAN NYC HEL AMS CAS\n",
      "PAN NYC HEL CAS AMS\n",
      "PAN HEL AMS CAS NYC\n",
      "PAN HEL AMS NYC CAS\n",
      "PAN HEL CAS AMS NYC\n",
      "PAN HEL CAS NYC AMS\n",
      "PAN HEL NYC AMS CAS\n",
      "PAN HEL NYC CAS AMS\n"
     ]
    },
    {
     "data": {
      "text/plain": [
       "False"
      ]
     },
     "execution_count": 39,
     "metadata": {},
     "output_type": "execute_result"
    }
   ],
   "source": [
    "# Fix the program by adding an if statement that checks that the route includes all of the ports. \n",
    "# In other words, check that each of the numbers 0, 1, 2, 3, 4 are included in the list routes.\n",
    "import math\n",
    "import random\n",
    "import numpy as np\n",
    "import io\n",
    "from io import StringIO\n",
    "\n",
    "def main():\n",
    "    portnames = [\"PAN\", \"AMS\", \"CAS\", \"NYC\", \"HEL\"]\n",
    "\n",
    "    port1 = 0\n",
    "    for port2 in range(1, 5):\n",
    "        for port3 in range(1, 5):\n",
    "            for port4 in range(1, 5):\n",
    "                for port5 in range(1, 5):\n",
    "                    route = [port1, port2, port3 , port4, port5]\n",
    "                    \n",
    "                    if len(set(route)) == len(route):\n",
    "                        print(' '.join([portnames[i] for i in route]))\n",
    "\n",
    "main()in()"
   ]
  },
  {
   "cell_type": "markdown",
   "id": "1e467e8e-52fa-4f34-b904-c52f322aa848",
   "metadata": {},
   "source": [
    "<h4>The reference table</h4>\n",
    "<img src=\"../img/figure3.png\">"
   ]
  },
  {
   "cell_type": "code",
   "execution_count": 54,
   "id": "a56e576a-3826-4e34-84d7-ffc3dac3c6e0",
   "metadata": {},
   "outputs": [
    {
     "name": "stdout",
     "output_type": "stream",
     "text": [
      "PAN 31159\n",
      "AMS 19957\n",
      "CAS 21413\n",
      "NYK 23630\n",
      "HEL 25387\n",
      "The shorter distance is:  AMS  with totoal distance:  19957\n"
     ]
    }
   ],
   "source": [
    "# This attempt is to solve the problem with code\n",
    "routes = ['PAN', 'AMS', 'CAS', 'NYK', 'HEL']\n",
    "distance = [[0, 8943,8019, 3652, 10545], [8943, 0, 2619, 6317, 2078,], [8019, 2619, 0, 5836, 4939], [3652, 6317, 5836, 0, 7825], [10545, 2078, 4939, 7825, 0]]\n",
    "\n",
    "def calculate_shortest_route ():\n",
    "\n",
    "# Define the distance as float and empty shorter route\n",
    "    min_distance = float('inf')\n",
    "# Will assign current_routes\n",
    "    shorter_route = ''\n",
    "    \n",
    "# Forloop over the routes len to get a int as index\n",
    "# (Start)\n",
    "    for i in range(len(routes)):\n",
    "        \n",
    "        # Define current_routes with index [i]\n",
    "        current_routes = routes[i]\n",
    "        \n",
    "        # Define tottal_distance referencing to the index [i]\n",
    "        tottal_distance = sum(distance[i])\n",
    "        \n",
    "        # Routes with total distance\n",
    "        print (current_routes, tottal_distance) \n",
    "\n",
    "        # Condition  to get the shorter_route and min_distance  \n",
    "        if tottal_distance < min_distance:\n",
    "            min_distance = tottal_distance\n",
    "            shorter_route = current_routes        \n",
    "    #(End)\n",
    "    print('The shorter distance is: ', shorter_route, ' with totoal distance: ', min_distance)\n",
    "\n",
    "\n",
    "calculate_shortest_route()"
   ]
  },
  {
   "cell_type": "code",
   "execution_count": 157,
   "id": "99098685-5289-4bc4-81dd-f2680fe07a15",
   "metadata": {},
   "outputs": [
    {
     "name": "stdout",
     "output_type": "stream",
     "text": [
      "PAN 31159\n",
      "AMS 19957\n",
      "CAS 21413\n",
      "NYK 23630\n",
      "HEL 25387\n",
      "The shorter distance is:  AMS  with totoal distance:  19957\n"
     ]
    }
   ],
   "source": [
    "# This attempt is to solve the problem with code\n",
    "routes = ['PAN', 'AMS', 'CAS', 'NYK', 'HEL']\n",
    "distance = [[0, 8943,8019, 3652, 10545], [8943, 0, 2619, 6317, 2078,], [8019, 2619, 0, 5836, 4939], [3652, 6317, 5836, 0, 7825], [10545, 2078, 4939, 7825, 0]]\n",
    "\n",
    "def calculate_shortest_route ():\n",
    "\n",
    "# Define the distance as float and empty shorter route\n",
    "    min_distance = float('inf')\n",
    "# Will assign current_routes\n",
    "    shorter_route = ''\n",
    "    \n",
    "# Forloop over the routes len to get a int as index\n",
    "# (Start)\n",
    "    for i in range(len(routes)):\n",
    "        \n",
    "        # Define current_routes with index [i]\n",
    "        current_routes = routes[i]\n",
    "        \n",
    "        # Define tottal_distance referencing to the index [i]\n",
    "        tottal_distance = sum(distance[i])\n",
    "        \n",
    "        # Routes with total distance\n",
    "        print (current_routes, tottal_distance) \n",
    "\n",
    "        # Condition  to get the shorter_route and min_distance  \n",
    "        if tottal_distance < min_distance:\n",
    "            min_distance = tottal_distance\n",
    "            shorter_route = current_routes \n",
    "    \n",
    "    #return shortest_route, min_distance\n",
    "   \n",
    "    #(End)\n",
    "    \n",
    "    print('The shorter distance is: ', shorter_route, ' with totoal distance: ', min_distance)\n",
    "\n",
    "\n",
    "calculate_shortest_route()"
   ]
  },
  {
   "cell_type": "code",
   "execution_count": 215,
   "id": "bd04449a-e4a9-4ecc-be49-3180a5464640",
   "metadata": {},
   "outputs": [
    {
     "name": "stdout",
     "output_type": "stream",
     "text": [
      "PAN AMS CAS NYC HEL 504.5 kg\n",
      "PAN AMS CAS HEL NYC 486.5 kg\n",
      "PAN AMS NYC CAS HEL 520.7 kg\n",
      "PAN AMS NYC HEL CAS 560.5 kg\n",
      "PAN AMS HEL CAS NYC 435.9 kg\n",
      "PAN AMS HEL NYC CAS 493.6 kg\n",
      "PAN CAS AMS NYC HEL 495.6 kg\n",
      "PAN CAS AMS HEL NYC 410.8 kg\n",
      "PAN CAS NYC AMS HEL 445.0 kg\n",
      "PAN CAS NYC HEL AMS 475.2 kg\n",
      "PAN CAS HEL AMS NYC 427.1 kg\n",
      "PAN CAS HEL NYC AMS 542.0 kg\n",
      "PAN NYC AMS CAS HEL 350.5 kg\n",
      "PAN NYC AMS HEL CAS 339.7 kg\n",
      "PAN NYC CAS AMS HEL 283.7 kg\n",
      "PAN NYC CAS HEL AMS 330.1 kg\n",
      "PAN NYC HEL AMS CAS 323.5 kg\n",
      "PAN NYC HEL CAS AMS 380.7 kg\n",
      "PAN HEL AMS CAS NYC 421.6 kg\n",
      "PAN HEL AMS NYC CAS 495.5 kg\n",
      "PAN HEL CAS AMS NYC 488.4 kg\n",
      "PAN HEL CAS NYC AMS 552.7 kg\n",
      "PAN HEL NYC AMS CAS 546.1 kg\n",
      "PAN HEL NYC CAS AMS 536.5 kg\n"
     ]
    }
   ],
   "source": [
    "def main():\n",
    "    portnames = [\"PAN\", \"AMS\", \"CAS\", \"NYC\", \"HEL\"]\n",
    "\n",
    "    # https://sea-distances.org/\n",
    "    # nautical miles converted to km\n",
    "\n",
    "    D = [\n",
    "            [0,8943,8019,3652,10545],\n",
    "            [8943,0,2619,6317,2078],\n",
    "            [8019,2619,0,5836,4939],\n",
    "            [3652,6317,5836,0,7825],\n",
    "            [10545,2078,4939,7825,0]\n",
    "        ]\n",
    "\n",
    "    # https://timeforchange.org/co2-emissions-shipping-goods\n",
    "    # assume 20g per km per metric ton (of pineapples)\n",
    "\n",
    "\n",
    "    co2 = 0.020\n",
    "        \n",
    "    port1 = 0\n",
    "    for port2 in range(1, 5):\n",
    "        for port3 in range(1, 5):\n",
    "            for port4 in range(1, 5):\n",
    "                for port5 in range(1, 5):\n",
    "                    route = [port1, port2, port3, port4, port5]\n",
    "                    \n",
    "                    if set(route) == set(range(5)):\n",
    "                    # if 0 in route and 1 in route and 2 in route and 3 in route and 4 in route:\n",
    "                        distance = D[route[0]][route[1]] + D[route[1]][route[2]] + D[route[2]][route[3]] + D[route[3]][route[4]]               \n",
    "                        emissions = distance * co2\n",
    "                        print(' '.join([portnames[i] for i in route]) + \" %.1f kg\" % emissions)\n",
    "            \n",
    "main()"
   ]
  },
  {
   "cell_type": "code",
   "execution_count": 162,
   "id": "5e745807-cc90-44ca-994d-bae9b5cb6b39",
   "metadata": {},
   "outputs": [
    {
     "name": "stdout",
     "output_type": "stream",
     "text": [
      "PAN AMS CAS NYC HEL 504.5 kg\n"
     ]
    }
   ],
   "source": [
    "def main():\n",
    "    portnames = [\"PAN\", \"AMS\", \"CAS\", \"NYC\", \"HEL\"]\n",
    "\n",
    "    # https://sea-distances.org/\n",
    "    # nautical miles converted to km\n",
    "\n",
    "    D = [\n",
    "            [0,8943,8019,3652,10545],\n",
    "            [8943,0,2619,6317,2078],\n",
    "            [8019,2619,0,5836,4939],\n",
    "            [3652,6317,5836,0,7825],\n",
    "            [10545,2078,4939,7825,0]\n",
    "        ]\n",
    "\n",
    "    # https://timeforchange.org/co2-emissions-shipping-goods\n",
    "    # assume 20g per km per metric ton (of pineapples)\n",
    "\n",
    "\n",
    "    co2 = 0.020\n",
    "\n",
    "    route = [0, 1, 2, 3, 4]\n",
    "    distance = D[route[0]][route[1]] + D[route[1]][route[2]] + D[route[2]][route[3]] + D[route[3]][route[4]]\n",
    "    emissions = distance * co2\n",
    "    print(' '.join([portnames[i] for i in route]) + \" %.1f kg\" % emissions)\n",
    "    \n",
    "main()"
   ]
  },
  {
   "cell_type": "code",
   "execution_count": 90,
   "id": "55acd509-6f5f-4b72-931a-8c15b00947b6",
   "metadata": {},
   "outputs": [
    {
     "name": "stdout",
     "output_type": "stream",
     "text": [
      "PAN\n"
     ]
    }
   ],
   "source": [
    "# The template code.\n",
    "# Note that your program should work for an input portnames list of any length.\n",
    " \n",
    "def permutations(route, ports):\n",
    "    # Write your recursive code here\n",
    "    \n",
    "    # Print the port names in route when the recursion terminates\n",
    "    print(' '.join([portnames[i] for i in route]))\n",
    "\n",
    "\n",
    "# This will start the recursion with 0 (\"PAN\") as the first stop\n",
    "permutations([0], list(range(1, len(portnames))))"
   ]
  },
  {
   "cell_type": "code",
   "execution_count": 89,
   "id": "b1e160e8-eaa1-4975-bca6-54e509576fcf",
   "metadata": {},
   "outputs": [
    {
     "name": "stdout",
     "output_type": "stream",
     "text": [
      "PAN AMS CAS NYC HEL\n",
      "PAN AMS CAS HEL NYC\n",
      "PAN AMS NYC CAS HEL\n",
      "PAN AMS NYC HEL CAS\n",
      "PAN AMS HEL CAS NYC\n",
      "PAN AMS HEL NYC CAS\n",
      "PAN CAS AMS NYC HEL\n",
      "PAN CAS AMS HEL NYC\n",
      "PAN CAS NYC AMS HEL\n",
      "PAN CAS NYC HEL AMS\n",
      "PAN CAS HEL AMS NYC\n",
      "PAN CAS HEL NYC AMS\n",
      "PAN NYC AMS CAS HEL\n",
      "PAN NYC AMS HEL CAS\n",
      "PAN NYC CAS AMS HEL\n",
      "PAN NYC CAS HEL AMS\n",
      "PAN NYC HEL AMS CAS\n",
      "PAN NYC HEL CAS AMS\n",
      "PAN HEL AMS CAS NYC\n",
      "PAN HEL AMS NYC CAS\n",
      "PAN HEL CAS AMS NYC\n",
      "PAN HEL CAS NYC AMS\n",
      "PAN HEL NYC AMS CAS\n",
      "PAN HEL NYC CAS AMS\n"
     ]
    }
   ],
   "source": [
    "# ChatGPT code.\n",
    "\n",
    "def permutations(route, ports):\n",
    "    \n",
    "    # Write your recursive code here\n",
    "    if len(route) == len(portnames):\n",
    "    \n",
    "        # Print the port names in route when the recursion terminates\n",
    "        print(' '.join([portnames[i] for i in route]))\n",
    "    \n",
    "    else:\n",
    "        for port in ports:\n",
    "            permutations(route + [port], [p for p in ports if p != port])\n",
    "\n",
    "# This will start the recursion with 0 (\"PAN\") as the first stop\n",
    "permutations([0], list(range(1, len(portnames))))"
   ]
  },
  {
   "cell_type": "code",
   "execution_count": 88,
   "id": "cb05e13f-eea8-4ca6-a053-2ef3413843f3",
   "metadata": {},
   "outputs": [
    {
     "name": "stdout",
     "output_type": "stream",
     "text": [
      "PAN AMS CAS NYC HEL\n",
      "PAN AMS CAS HEL NYC\n",
      "PAN AMS NYC CAS HEL\n",
      "PAN AMS NYC HEL CAS\n",
      "PAN AMS HEL CAS NYC\n",
      "PAN AMS HEL NYC CAS\n",
      "PAN CAS AMS NYC HEL\n",
      "PAN CAS AMS HEL NYC\n",
      "PAN CAS NYC AMS HEL\n",
      "PAN CAS NYC HEL AMS\n",
      "PAN CAS HEL AMS NYC\n",
      "PAN CAS HEL NYC AMS\n",
      "PAN NYC AMS CAS HEL\n",
      "PAN NYC AMS HEL CAS\n",
      "PAN NYC CAS AMS HEL\n",
      "PAN NYC CAS HEL AMS\n",
      "PAN NYC HEL AMS CAS\n",
      "PAN NYC HEL CAS AMS\n",
      "PAN HEL AMS CAS NYC\n",
      "PAN HEL AMS NYC CAS\n",
      "PAN HEL CAS AMS NYC\n",
      "PAN HEL CAS NYC AMS\n",
      "PAN HEL NYC AMS CAS\n",
      "PAN HEL NYC CAS AMS\n"
     ]
    }
   ],
   "source": [
    "# Example Solution:\n",
    "\n",
    "def permutations(route, ports):\n",
    "    if len(ports) < 1:\n",
    "        print(' '.join([portnames[i] for i in route]))\n",
    "    else:\n",
    "        for i in range(len(ports)):\n",
    "            permutations(route+[ports[i]], ports[:i]+ports[i+1:])\n",
    " \n",
    "permutations([0], list(range(1, len(portnames))))"
   ]
  },
  {
   "cell_type": "code",
   "execution_count": null,
   "id": "15660201-fa87-4891-b7ff-e11f14cad195",
   "metadata": {},
   "outputs": [],
   "source": []
  }
 ],
 "metadata": {
  "kernelspec": {
   "display_name": "Python 3 (ipykernel)",
   "language": "python",
   "name": "python3"
  },
  "language_info": {
   "codemirror_mode": {
    "name": "ipython",
    "version": 3
   },
   "file_extension": ".py",
   "mimetype": "text/x-python",
   "name": "python",
   "nbconvert_exporter": "python",
   "pygments_lexer": "ipython3",
   "version": "3.9.6"
  }
 },
 "nbformat": 4,
 "nbformat_minor": 5
}
